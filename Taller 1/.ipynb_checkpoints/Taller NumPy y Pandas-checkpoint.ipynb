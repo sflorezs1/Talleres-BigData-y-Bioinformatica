{
 "cells": [
  {
   "cell_type": "markdown",
   "id": "d3cd4534-e78a-44cf-8a04-03c823838e38",
   "metadata": {},
   "source": [
    "# Taller: Pandas, Numpy y Matplotlib\n",
    "\n",
    "## Manejo de DataFrames de Pandas\n",
    "\n",
    "Este taller contiene 4 archivos `.csv` correspondientes a las notas de 100 estudiantes en 4 materias.  \n",
    "\n",
    "Cada archivo está formateado de la siguiente forma:  \n",
    "\n",
    "| Estudiante | Nota 1 | Nota 2 | Nota 3 | Nota 4 | Nota 5 |\n",
    "| :--------: | :----: | :----: | :----: | :----: | :----: | \n",
    "| 1.0        |\t2.47  |\t2.97   | 3.05   | 0.74   |\t3.62  |\n",
    "| 2.0        | 2.85   | 3.03   | 3.66   | 4.56   |\t4.56  |\n",
    "| 3.0        | 2.96   |\t3.47   | 2.07   |\t0.6  |\t0.0   |\n",
    "| ...        | ...    |  ...   | ...    | ...    | ...    |\n",
    "| 100        | 3.61   | 3.18   | 0.59   | 5.00   | 1.64   |\n",
    "\n",
    "Durante este taller se realizaran distintas operaciones sobre estos archivos. Se darán recordatorios de funciones útiles para el desarrollo de los puntos en que sean necesarias.  \n",
    "\n",
    "Para empezar debemos abrir los archivos con `pandas`, para esto podemos usar:  \n",
    "\n",
    "```python\n",
    "import pandas as pd\n",
    "\n",
    "archivo = pd.read_csv(\"ruta/del/archivo.csv\")\n",
    "```\n",
    "\n",
    "`archivo` es un objeto de tipo `pandas.DataFrame` que provee gran variedad de métodos útiles para el manejo de los datos que este contiene. De cierta forma podemos ver el objeto como un \"mini-excel\" en donde se podrán realizar operaciones típicas de hojas de cálculo. Documentación sobre estos métodos puede ser encontrada en este [enlace](https://pandas.pydata.org/docs/reference/api/pandas.DataFrame.html) o dentro de Jupyter (o IPython) de la siguiente forma:  \n",
    "\n",
    "```python\n",
    "import pandas as pd\n",
    "\n",
    "?pd.DataFrame\n",
    "```"
   ]
  },
  {
   "cell_type": "markdown",
   "id": "b3e65fa3-7ee7-4893-ab26-bb1dbc79cc36",
   "metadata": {},
   "source": [
    "### Leer las hojas de cálculo en Python \n",
    "Se nos pide entonces que calculemos distintas estadísticas relacionadas a las notas de los estudiantes. Para ello debemos leer los archivos.  \n",
    "\n",
    "En la siguiente celda de Jupyter deberás abrir todos los archivos `.csv` de este directorio (carpeta) y guárda los DataFrames en un diccionario, en donde la llave de cada objeto será el nombre del archivo sin la extensión. Recuerda importar las bibliotecas necesarias ya que esta es la primera celda que será ejecutada.  "
   ]
  },
  {
   "cell_type": "code",
   "execution_count": 1,
   "id": "99fe6dfb-d060-443b-b66b-024831c78e72",
   "metadata": {},
   "outputs": [],
   "source": [
    "# Ejercicio 1\n"
   ]
  },
  {
   "cell_type": "markdown",
   "id": "575e02d9-2a1e-40d6-823c-751bb8c24720",
   "metadata": {
    "tags": []
   },
   "source": [
    "### Manipulación de datos en DataFrames\n",
    "\n",
    "La primeras estadística que se nos pide calcular son:\n",
    "- Promedio de cada estudiante por materia\n",
    "- Promedio de cada materia\n",
    "- Desviación estándar de los promedios por materia\n",
    "- Promedio de cada estudiante en general\n",
    "- Desviación estándar de los promedios en general\n",
    "\n",
    "Es recomendable que, para mantener el orden en este documento se realice cada punto en una celda de Jupyter diferente y el resultado de las operaciones sea entregado en DataFrames.    \n",
    "\n",
    "#### Métodos recomendados\n",
    "\n",
    "##### `DataFrame.iloc[]`: \n",
    "Permite el uso de numeros enteros para indexar y partir los dataframes, su sintaxis es parecida a las usada para las listas en Python. \n",
    "\n",
    "Por ejemplo, si se tiene el siguiente DataFrame `df`:\n",
    "\n",
    "|    |   Bananos |   Peras |  Manzanas |   Aguacates |   Naranjas |   Mangos |   Sandias |   Fresas |   Uvas |   Melocotones |\n",
    "|---:|----------:|--------:|----------:|------------:|-----------:|---------:|----------:|---------:|-------:|--------------:|\n",
    "|  0 |         5 |      81 |        98 |          13 |         88 |       33 |        25 |       15 |     91 |            93 |\n",
    "|  1 |        83 |      57 |        70 |          89 |         53 |       18 |        44 |       74 |     21 |            58 |\n",
    "|  2 |        52 |      99 |        88 |          80 |         95 |       16 |        98 |       45 |     46 |            39 |\n",
    "|  3 |        63 |      56 |        40 |          90 |         72 |       74 |        67 |       72 |     60 |            59 |\n",
    "|  4 |        36 |      19 |        23 |          12 |         94 |       60 |        43 |       86 |     43 |            59 |\n",
    "|  5 |        37 |      42 |        24 |          52 |         38 |       12 |        97 |       24 |      6 |            68 |\n",
    "|  6 |        39 |       8 |        70 |          91 |         88 |       19 |        89 |       20 |     64 |            64 |\n",
    "|  7 |        39 |      96 |        48 |          22 |         72 |       76 |        92 |       85 |     53 |             6 |\n",
    "|  8 |        56 |      37 |        14 |          48 |         84 |       84 |        63 |       24 |     18 |            48 |\n",
    "|  9 |        66 |      66 |        97 |          13 |         64 |       84 |        32 |       76 |     64 |            68 |\n",
    "\n",
    "Podriamos particionarlo usando:  \n",
    "```python \n",
    "df.iloc[fila_inicial : fila_final, columna_inicial : columna_final]\n",
    "```\n",
    "**Nota**: recuerda que contrario a las particiones de Python aquí `fila_final` y `columna_final` son inclusivos. Además, Si la fila o columna iniciales son omitidas Python las toma como 0, mientras que si la fila o columna finales son omitidas se toman como su valor máximo, en este caso 10.\n",
    "\n",
    "Una partición posible sería `df.iloc[3 :, 2 : 8]`\n",
    "\n",
    "|    |  Manzanas |   Aguacates |   Naranjas |   Mangos |   Sandias |   Fresas |\n",
    "|---:|----------:|------------:|-----------:|---------:|----------:|---------:|\n",
    "|  3 |        40 |          90 |         72 |       74 |        67 |       72 |\n",
    "|  4 |        23 |          12 |         94 |       60 |        43 |       86 |\n",
    "|  5 |        24 |          52 |         38 |       12 |        97 |       24 |\n",
    "|  6 |        70 |          91 |         88 |       19 |        89 |       20 |\n",
    "|  7 |        48 |          22 |         72 |       76 |        92 |       85 |\n",
    "|  8 |        14 |          48 |         84 |       84 |        63 |       24 |\n",
    "|  9 |        97 |          13 |         64 |       84 |        32 |       76 |\n",
    "\n",
    "##### Añadir una nueva columna al DataFrame\n",
    "\n",
    "Puedes añadir una nueva columna de forma similar a como añades un valor nuevo a un diccionario.  \n",
    "\n",
    "```python\n",
    "df[\"Papayas\"] = np.zeros((10,), dtype=int)\n",
    "```\n",
    "\n",
    "Y el DataFrame se modificaría así\n",
    "\n",
    "|    |   Bananos |   Peras |  Manzanas |   Aguacates |   Naranjas |   Mangos |   Sandias |   Fresas |   Uvas |   Melocotones |   Papayas |\n",
    "|---:|----------:|--------:|----------:|------------:|-----------:|---------:|----------:|---------:|-------:|--------------:|----------:|\n",
    "|  0 |         5 |      81 |        98 |          13 |         88 |       33 |        25 |       15 |     91 |            93 |         0 |\n",
    "|  1 |        83 |      57 |        70 |          89 |         53 |       18 |        44 |       74 |     21 |            58 |         0 |\n",
    "|  2 |        52 |      99 |        88 |          80 |         95 |       16 |        98 |       45 |     46 |            39 |         0 |\n",
    "|  3 |        63 |      56 |        40 |          90 |         72 |       74 |        67 |       72 |     60 |            59 |         0 |\n",
    "|  4 |        36 |      19 |        23 |          12 |         94 |       60 |        43 |       86 |     43 |            59 |         0 |\n",
    "|  5 |        37 |      42 |        24 |          52 |         38 |       12 |        97 |       24 |      6 |            68 |         0 |\n",
    "|  6 |        39 |       8 |        70 |          91 |         88 |       19 |        89 |       20 |     64 |            64 |         0 |\n",
    "|  7 |        39 |      96 |        48 |          22 |         72 |       76 |        92 |       85 |     53 |             6 |         0 |\n",
    "|  8 |        56 |      37 |        14 |          48 |         84 |       84 |        63 |       24 |     18 |            48 |         0 |\n",
    "|  9 |        66 |      66 |        97 |          13 |         64 |       84 |        32 |       76 |     64 |            68 |         0 |\n",
    "\n",
    "También puedes añadir una nueva fila con el método `DataFrame.append()`\n",
    "\n",
    "```python\n",
    "df = df.append(pd.Series(0, index=df.columns), ignore_index=True)\n",
    "```\n",
    "\n",
    "Resultando en el siguiente DataFrame:\n",
    "\n",
    "|    |   Bananos |   Peras |   Mazanas |   Aguacates |   Naranjas |   Mangos |   Sandias |   Fresas |   Uvas |   Melocotones |   Papayas |\n",
    "|---:|----------:|--------:|----------:|------------:|-----------:|---------:|----------:|---------:|-------:|--------------:|----------:|\n",
    "|  0 |         5 |      81 |        98 |          13 |         88 |       33 |        25 |       15 |     91 |            93 |         0 |\n",
    "|  1 |        83 |      57 |        70 |          89 |         53 |       18 |        44 |       74 |     21 |            58 |         0 |\n",
    "|  2 |        52 |      99 |        88 |          80 |         95 |       16 |        98 |       45 |     46 |            39 |         0 |\n",
    "|  3 |        63 |      56 |        40 |          90 |         72 |       74 |        67 |       72 |     60 |            59 |         0 |\n",
    "|  4 |        36 |      19 |        23 |          12 |         94 |       60 |        43 |       86 |     43 |            59 |         0 |\n",
    "|  5 |        37 |      42 |        24 |          52 |         38 |       12 |        97 |       24 |      6 |            68 |         0 |\n",
    "|  6 |        39 |       8 |        70 |          91 |         88 |       19 |        89 |       20 |     64 |            64 |         0 |\n",
    "|  7 |        39 |      96 |        48 |          22 |         72 |       76 |        92 |       85 |     53 |             6 |         0 |\n",
    "|  8 |        56 |      37 |        14 |          48 |         84 |       84 |        63 |       24 |     18 |            48 |         0 |\n",
    "|  9 |        66 |      66 |        97 |          13 |         64 |       84 |        32 |       76 |     64 |            68 |         0 |\n",
    "| 10 |         0 |       0 |         0 |           0 |          0 |        0 |         0 |        0 |      0 |             0 |         0 |"
   ]
  },
  {
   "cell_type": "markdown",
   "id": "7c19e371-4586-4bb1-b2f1-0840ec18c13a",
   "metadata": {},
   "source": [
    "#### Promedio de cada estudiante por materia"
   ]
  },
  {
   "cell_type": "code",
   "execution_count": 19,
   "id": "d415995a-bdac-411f-ba9d-a04f052bf1ac",
   "metadata": {},
   "outputs": [],
   "source": []
  },
  {
   "cell_type": "markdown",
   "id": "384ce9fa-055e-406a-8bed-025533e92fc1",
   "metadata": {},
   "source": [
    "#### Promedio de cada materia"
   ]
  },
  {
   "cell_type": "code",
   "execution_count": null,
   "id": "fa44f41f-7a53-47a7-add7-0903ba39aa6a",
   "metadata": {},
   "outputs": [],
   "source": []
  },
  {
   "cell_type": "markdown",
   "id": "c3f1cf04-fb7e-47d2-8161-e74b8549865c",
   "metadata": {},
   "source": [
    "#### Desviación estándar de los promedios por materia"
   ]
  },
  {
   "cell_type": "code",
   "execution_count": null,
   "id": "79859717-3dc5-4776-9c81-b5a69b9bd80c",
   "metadata": {},
   "outputs": [],
   "source": []
  },
  {
   "cell_type": "markdown",
   "id": "87a2d1bf-fb87-491e-8cb5-35ad906709bd",
   "metadata": {},
   "source": [
    "#### Promedio de cada estudiante en general"
   ]
  },
  {
   "cell_type": "code",
   "execution_count": null,
   "id": "0c0c78e5-a4a4-437a-b556-75b03851bb15",
   "metadata": {},
   "outputs": [],
   "source": []
  },
  {
   "cell_type": "markdown",
   "id": "51aa60d7-6bff-4238-ad21-31984894248e",
   "metadata": {},
   "source": [
    "#### Desviación estándar de los promedios en general"
   ]
  },
  {
   "cell_type": "code",
   "execution_count": null,
   "id": "a32e9c65-de28-4439-a05e-7245b74e3cb7",
   "metadata": {},
   "outputs": [],
   "source": []
  }
 ],
 "metadata": {
  "kernelspec": {
   "display_name": "Python 3 (ipykernel)",
   "language": "python",
   "name": "python3"
  },
  "language_info": {
   "codemirror_mode": {
    "name": "ipython",
    "version": 3
   },
   "file_extension": ".py",
   "mimetype": "text/x-python",
   "name": "python",
   "nbconvert_exporter": "python",
   "pygments_lexer": "ipython3",
   "version": "3.9.6"
  }
 },
 "nbformat": 4,
 "nbformat_minor": 5
}
