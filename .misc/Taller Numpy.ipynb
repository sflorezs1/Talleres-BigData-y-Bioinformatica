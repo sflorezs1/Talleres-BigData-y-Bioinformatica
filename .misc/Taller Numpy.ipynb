{
 "cells": [
  {
   "cell_type": "code",
   "execution_count": null,
   "id": "16b23246-fc4c-4524-9103-28370c660946",
   "metadata": {},
   "outputs": [],
   "source": []
  },
  {
   "cell_type": "markdown",
   "id": "dc6da721-cb97-4dd6-9e96-774328ab5866",
   "metadata": {},
   "source": [
    "# Taller 1: Numpy"
   ]
  },
  {
   "cell_type": "code",
   "execution_count": 71,
   "id": "d2250ced-a98b-4d73-98f3-95e378137ec6",
   "metadata": {},
   "outputs": [
    {
     "data": {
      "text/plain": [
       "{'Calculo':     Estudiante  Nota 1  Nota 2  Nota 3  Nota 4  Nota 5\n",
       " 0          1.0    0.10    1.85    4.58    3.16    4.33\n",
       " 1          2.0    1.88    2.59    0.96    4.75    0.86\n",
       " 2          3.0    1.18    0.50    0.51    1.69    2.36\n",
       " 3          4.0    2.63    2.21    1.88    4.89    3.49\n",
       " 4          5.0    1.62    0.25    4.53    2.00    4.09\n",
       " ..         ...     ...     ...     ...     ...     ...\n",
       " 95        96.0    1.87    1.77    0.81    4.35    0.65\n",
       " 96        97.0    0.14    1.52    1.96    1.85    4.75\n",
       " 97        98.0    2.19    3.01    3.63    0.47    4.81\n",
       " 98        99.0    1.06    0.21    4.76    1.00    4.39\n",
       " 99       100.0    2.84    4.72    2.65    4.67    2.58\n",
       " \n",
       " [100 rows x 6 columns],\n",
       " 'Analisis Textual':     Estudiante  Nota 1  Nota 2  Nota 3  Nota 4  Nota 5\n",
       " 0          1.0    0.69    2.47    4.93    0.39    0.59\n",
       " 1          2.0    4.33    1.57    1.77    2.70    4.96\n",
       " 2          3.0    1.70    0.92    1.78    4.80    1.80\n",
       " 3          4.0    2.70    3.56    0.37    3.95    2.37\n",
       " 4          5.0    3.46    4.85    1.47    2.09    4.07\n",
       " ..         ...     ...     ...     ...     ...     ...\n",
       " 95        96.0    1.84    3.38    1.03    4.16    4.07\n",
       " 96        97.0    1.71    1.75    4.81    4.21    1.14\n",
       " 97        98.0    0.53    4.76    1.92    3.12    3.73\n",
       " 98        99.0    3.70    4.89    4.07    0.42    3.07\n",
       " 99       100.0    0.55    1.88    0.21    1.66    4.72\n",
       " \n",
       " [100 rows x 6 columns],\n",
       " 'Programacion':     Estudiante  Nota 1  Nota 2  Nota 3  Nota 4  Nota 5\n",
       " 0          1.0    2.27    4.00    2.29    3.50    2.92\n",
       " 1          2.0    2.19    0.64    0.60    3.95    3.63\n",
       " 2          3.0    0.00    4.61    4.26    3.73    3.90\n",
       " 3          4.0    3.28    0.54    2.89    0.82    0.85\n",
       " 4          5.0    4.01    4.72    3.20    1.11    4.32\n",
       " ..         ...     ...     ...     ...     ...     ...\n",
       " 95        96.0    3.07    3.36    3.63    1.54    1.47\n",
       " 96        97.0    0.97    2.50    3.19    3.70    3.06\n",
       " 97        98.0    4.60    4.00    0.52    2.17    1.46\n",
       " 98        99.0    3.85    2.39    0.50    0.84    1.15\n",
       " 99       100.0    0.37    0.72    2.30    0.10    3.88\n",
       " \n",
       " [100 rows x 6 columns],\n",
       " 'Fisica':     Estudiante  Nota 1  Nota 2  Nota 3  Nota 4  Nota 5\n",
       " 0          1.0    0.87    4.66    2.28    2.61    1.06\n",
       " 1          2.0    2.32    0.75    0.31    1.64    2.79\n",
       " 2          3.0    1.35    2.05    2.90    2.64    1.78\n",
       " 3          4.0    1.76    0.43    3.27    4.42    2.84\n",
       " 4          5.0    4.72    0.45    0.81    2.80    1.72\n",
       " ..         ...     ...     ...     ...     ...     ...\n",
       " 95        96.0    1.61    2.53    1.24    1.91    4.75\n",
       " 96        97.0    4.16    4.55    4.94    1.05    0.57\n",
       " 97        98.0    0.46    3.10    3.86    3.48    4.51\n",
       " 98        99.0    4.20    3.63    1.86    3.63    2.33\n",
       " 99       100.0    3.57    4.91    2.97    4.92    4.75\n",
       " \n",
       " [100 rows x 6 columns]}"
      ]
     },
     "metadata": {},
     "output_type": "display_data"
    }
   ],
   "source": [
    "import pandas as pd\n",
    "import numpy as np\n",
    "\n",
    "st = 100\n",
    "notas = 5\n",
    "dfs = []\n",
    "\n",
    "for i in [\"Calculo\", \"Analisis Textual\", \"Programacion\", \"Fisica\"]:\n",
    "    ids = np.arange(1, st + 1)[:, np.newaxis]\n",
    "    grades = np.random.ranf((st, notas, )) * 5\n",
    "    df = pd.DataFrame(np.hstack((ids, grades)), columns=[\"Estudiante\"] + [f\"Nota {j}\" for j in range(1, notas + 1)]).round(2)\n",
    "    df.to_csv(f\"{i}.csv\", index=None)"
   ]
  },
  {
   "cell_type": "code",
   "execution_count": 93,
   "id": "26eff301-c743-4a2a-b26c-548caa316cb3",
   "metadata": {},
   "outputs": [
    {
     "data": {
      "text/plain": [
       "(10, 10)"
      ]
     },
     "metadata": {},
     "output_type": "display_data"
    },
    {
     "data": {
      "text/plain": [
       "'|    |   Mazanas |   Aguacates |   Naranjas |   Mangos |   Sandias |   Fresas |\\n|---:|----------:|------------:|-----------:|---------:|----------:|---------:|\\n|  3 |        40 |          90 |         72 |       74 |        67 |       72 |\\n|  4 |        23 |          12 |         94 |       60 |        43 |       86 |\\n|  5 |        24 |          52 |         38 |       12 |        97 |       24 |\\n|  6 |        70 |          91 |         88 |       19 |        89 |       20 |\\n|  7 |        48 |          22 |         72 |       76 |        92 |       85 |\\n|  8 |        14 |          48 |         84 |       84 |        63 |       24 |\\n|  9 |        97 |          13 |         64 |       84 |        32 |       76 |'"
      ]
     },
     "execution_count": 93,
     "metadata": {},
     "output_type": "execute_result"
    }
   ],
   "source": [
    "display(np.random.randint(0, 100, (10, 10)).shape)\n",
    "df = pd.DataFrame(np.random.randint(0, 100, (10, 10)), columns=[\"Bananos\", \"Peras\", \"Mazanas\", \"Aguacates\", \"Naranjas\", \"Mangos\", \"Sandias\", \"Fresas\", \"Uvas\", \"Melocotones\"])"
   ]
  },
  {
   "cell_type": "code",
   "execution_count": 96,
   "id": "209d061e-ca47-493e-974c-7859572f6645",
   "metadata": {},
   "outputs": [
    {
     "data": {
      "text/plain": [
       "'|    |   Bananos |   Peras |   Mazanas |   Aguacates |   Naranjas |   Mangos |   Sandias |   Fresas |   Uvas |   Melocotones |\\n|---:|----------:|--------:|----------:|------------:|-----------:|---------:|----------:|---------:|-------:|--------------:|\\n|  0 |         5 |      81 |        98 |          13 |         88 |       33 |        25 |       15 |     91 |            93 |\\n|  1 |        83 |      57 |        70 |          89 |         53 |       18 |        44 |       74 |     21 |            58 |\\n|  2 |        52 |      99 |        88 |          80 |         95 |       16 |        98 |       45 |     46 |            39 |\\n|  3 |        63 |      56 |        40 |          90 |         72 |       74 |        67 |       72 |     60 |            59 |\\n|  4 |        36 |      19 |        23 |          12 |         94 |       60 |        43 |       86 |     43 |            59 |\\n|  5 |        37 |      42 |        24 |          52 |         38 |       12 |        97 |       24 |      6 |            68 |\\n|  6 |        39 |       8 |        70 |          91 |         88 |       19 |        89 |       20 |     64 |            64 |\\n|  7 |        39 |      96 |        48 |          22 |         72 |       76 |        92 |       85 |     53 |             6 |\\n|  8 |        56 |      37 |        14 |          48 |         84 |       84 |        63 |       24 |     18 |            48 |\\n|  9 |        66 |      66 |        97 |          13 |         64 |       84 |        32 |       76 |     64 |            68 |'"
      ]
     },
     "execution_count": 96,
     "metadata": {},
     "output_type": "execute_result"
    }
   ],
   "source": [
    "df.to_markdown()"
   ]
  },
  {
   "cell_type": "code",
   "execution_count": 95,
   "id": "4d7cbda9-4733-4884-af40-244bd42953fd",
   "metadata": {},
   "outputs": [
    {
     "data": {
      "text/plain": [
       "'|    |   Mazanas |   Aguacates |   Naranjas |   Mangos |   Sandias |   Fresas |\\n|---:|----------:|------------:|-----------:|---------:|----------:|---------:|\\n|  3 |        40 |          90 |         72 |       74 |        67 |       72 |\\n|  4 |        23 |          12 |         94 |       60 |        43 |       86 |\\n|  5 |        24 |          52 |         38 |       12 |        97 |       24 |\\n|  6 |        70 |          91 |         88 |       19 |        89 |       20 |\\n|  7 |        48 |          22 |         72 |       76 |        92 |       85 |\\n|  8 |        14 |          48 |         84 |       84 |        63 |       24 |\\n|  9 |        97 |          13 |         64 |       84 |        32 |       76 |'"
      ]
     },
     "execution_count": 95,
     "metadata": {},
     "output_type": "execute_result"
    }
   ],
   "source": [
    "df.iloc[3:, 2:8].to_markdown()"
   ]
  },
  {
   "cell_type": "code",
   "execution_count": 116,
   "id": "d43fb18d-263b-441c-a6ef-0946bd0f2adc",
   "metadata": {},
   "outputs": [],
   "source": [
    "df[\"Papayas\"] = np.zeros((10,), dtype=int)"
   ]
  },
  {
   "cell_type": "code",
   "execution_count": 118,
   "id": "c5e0c9e8-6a38-4b4f-b6ae-e1c423531601",
   "metadata": {},
   "outputs": [
    {
     "data": {
      "text/plain": [
       "'|    |   Bananos |   Peras |   Mazanas |   Aguacates |   Naranjas |   Mangos |   Sandias |   Fresas |   Uvas |   Melocotones |   Papayas |\\n|---:|----------:|--------:|----------:|------------:|-----------:|---------:|----------:|---------:|-------:|--------------:|----------:|\\n|  0 |         5 |      81 |        98 |          13 |         88 |       33 |        25 |       15 |     91 |            93 |         0 |\\n|  1 |        83 |      57 |        70 |          89 |         53 |       18 |        44 |       74 |     21 |            58 |         0 |\\n|  2 |        52 |      99 |        88 |          80 |         95 |       16 |        98 |       45 |     46 |            39 |         0 |\\n|  3 |        63 |      56 |        40 |          90 |         72 |       74 |        67 |       72 |     60 |            59 |         0 |\\n|  4 |        36 |      19 |        23 |          12 |         94 |       60 |        43 |       86 |     43 |            59 |         0 |\\n|  5 |        37 |      42 |        24 |          52 |         38 |       12 |        97 |       24 |      6 |            68 |         0 |\\n|  6 |        39 |       8 |        70 |          91 |         88 |       19 |        89 |       20 |     64 |            64 |         0 |\\n|  7 |        39 |      96 |        48 |          22 |         72 |       76 |        92 |       85 |     53 |             6 |         0 |\\n|  8 |        56 |      37 |        14 |          48 |         84 |       84 |        63 |       24 |     18 |            48 |         0 |\\n|  9 |        66 |      66 |        97 |          13 |         64 |       84 |        32 |       76 |     64 |            68 |         0 |'"
      ]
     },
     "execution_count": 118,
     "metadata": {},
     "output_type": "execute_result"
    }
   ],
   "source": [
    "df.to_markdown()"
   ]
  },
  {
   "cell_type": "code",
   "execution_count": 128,
   "id": "2a0b2001-4b48-40a8-953c-01a7a2acb456",
   "metadata": {},
   "outputs": [
    {
     "data": {
      "text/html": [
       "<div>\n",
       "<style scoped>\n",
       "    .dataframe tbody tr th:only-of-type {\n",
       "        vertical-align: middle;\n",
       "    }\n",
       "\n",
       "    .dataframe tbody tr th {\n",
       "        vertical-align: top;\n",
       "    }\n",
       "\n",
       "    .dataframe thead th {\n",
       "        text-align: right;\n",
       "    }\n",
       "</style>\n",
       "<table border=\"1\" class=\"dataframe\">\n",
       "  <thead>\n",
       "    <tr style=\"text-align: right;\">\n",
       "      <th></th>\n",
       "      <th>Bananos</th>\n",
       "      <th>Peras</th>\n",
       "      <th>Mazanas</th>\n",
       "      <th>Aguacates</th>\n",
       "      <th>Naranjas</th>\n",
       "      <th>Mangos</th>\n",
       "      <th>Sandias</th>\n",
       "      <th>Fresas</th>\n",
       "      <th>Uvas</th>\n",
       "      <th>Melocotones</th>\n",
       "      <th>Papayas</th>\n",
       "    </tr>\n",
       "  </thead>\n",
       "  <tbody>\n",
       "    <tr>\n",
       "      <th>0</th>\n",
       "      <td>5</td>\n",
       "      <td>81</td>\n",
       "      <td>98</td>\n",
       "      <td>13</td>\n",
       "      <td>88</td>\n",
       "      <td>33</td>\n",
       "      <td>25</td>\n",
       "      <td>15</td>\n",
       "      <td>91</td>\n",
       "      <td>93</td>\n",
       "      <td>0</td>\n",
       "    </tr>\n",
       "    <tr>\n",
       "      <th>1</th>\n",
       "      <td>83</td>\n",
       "      <td>57</td>\n",
       "      <td>70</td>\n",
       "      <td>89</td>\n",
       "      <td>53</td>\n",
       "      <td>18</td>\n",
       "      <td>44</td>\n",
       "      <td>74</td>\n",
       "      <td>21</td>\n",
       "      <td>58</td>\n",
       "      <td>0</td>\n",
       "    </tr>\n",
       "    <tr>\n",
       "      <th>2</th>\n",
       "      <td>52</td>\n",
       "      <td>99</td>\n",
       "      <td>88</td>\n",
       "      <td>80</td>\n",
       "      <td>95</td>\n",
       "      <td>16</td>\n",
       "      <td>98</td>\n",
       "      <td>45</td>\n",
       "      <td>46</td>\n",
       "      <td>39</td>\n",
       "      <td>0</td>\n",
       "    </tr>\n",
       "    <tr>\n",
       "      <th>3</th>\n",
       "      <td>63</td>\n",
       "      <td>56</td>\n",
       "      <td>40</td>\n",
       "      <td>90</td>\n",
       "      <td>72</td>\n",
       "      <td>74</td>\n",
       "      <td>67</td>\n",
       "      <td>72</td>\n",
       "      <td>60</td>\n",
       "      <td>59</td>\n",
       "      <td>0</td>\n",
       "    </tr>\n",
       "    <tr>\n",
       "      <th>4</th>\n",
       "      <td>36</td>\n",
       "      <td>19</td>\n",
       "      <td>23</td>\n",
       "      <td>12</td>\n",
       "      <td>94</td>\n",
       "      <td>60</td>\n",
       "      <td>43</td>\n",
       "      <td>86</td>\n",
       "      <td>43</td>\n",
       "      <td>59</td>\n",
       "      <td>0</td>\n",
       "    </tr>\n",
       "    <tr>\n",
       "      <th>5</th>\n",
       "      <td>37</td>\n",
       "      <td>42</td>\n",
       "      <td>24</td>\n",
       "      <td>52</td>\n",
       "      <td>38</td>\n",
       "      <td>12</td>\n",
       "      <td>97</td>\n",
       "      <td>24</td>\n",
       "      <td>6</td>\n",
       "      <td>68</td>\n",
       "      <td>0</td>\n",
       "    </tr>\n",
       "    <tr>\n",
       "      <th>6</th>\n",
       "      <td>39</td>\n",
       "      <td>8</td>\n",
       "      <td>70</td>\n",
       "      <td>91</td>\n",
       "      <td>88</td>\n",
       "      <td>19</td>\n",
       "      <td>89</td>\n",
       "      <td>20</td>\n",
       "      <td>64</td>\n",
       "      <td>64</td>\n",
       "      <td>0</td>\n",
       "    </tr>\n",
       "    <tr>\n",
       "      <th>7</th>\n",
       "      <td>39</td>\n",
       "      <td>96</td>\n",
       "      <td>48</td>\n",
       "      <td>22</td>\n",
       "      <td>72</td>\n",
       "      <td>76</td>\n",
       "      <td>92</td>\n",
       "      <td>85</td>\n",
       "      <td>53</td>\n",
       "      <td>6</td>\n",
       "      <td>0</td>\n",
       "    </tr>\n",
       "    <tr>\n",
       "      <th>8</th>\n",
       "      <td>56</td>\n",
       "      <td>37</td>\n",
       "      <td>14</td>\n",
       "      <td>48</td>\n",
       "      <td>84</td>\n",
       "      <td>84</td>\n",
       "      <td>63</td>\n",
       "      <td>24</td>\n",
       "      <td>18</td>\n",
       "      <td>48</td>\n",
       "      <td>0</td>\n",
       "    </tr>\n",
       "    <tr>\n",
       "      <th>9</th>\n",
       "      <td>66</td>\n",
       "      <td>66</td>\n",
       "      <td>97</td>\n",
       "      <td>13</td>\n",
       "      <td>64</td>\n",
       "      <td>84</td>\n",
       "      <td>32</td>\n",
       "      <td>76</td>\n",
       "      <td>64</td>\n",
       "      <td>68</td>\n",
       "      <td>0</td>\n",
       "    </tr>\n",
       "  </tbody>\n",
       "</table>\n",
       "</div>"
      ],
      "text/plain": [
       "   Bananos  Peras  Mazanas  Aguacates  Naranjas  Mangos  Sandias  Fresas  \\\n",
       "0        5     81       98         13        88      33       25      15   \n",
       "1       83     57       70         89        53      18       44      74   \n",
       "2       52     99       88         80        95      16       98      45   \n",
       "3       63     56       40         90        72      74       67      72   \n",
       "4       36     19       23         12        94      60       43      86   \n",
       "5       37     42       24         52        38      12       97      24   \n",
       "6       39      8       70         91        88      19       89      20   \n",
       "7       39     96       48         22        72      76       92      85   \n",
       "8       56     37       14         48        84      84       63      24   \n",
       "9       66     66       97         13        64      84       32      76   \n",
       "\n",
       "   Uvas  Melocotones  Papayas  \n",
       "0    91           93        0  \n",
       "1    21           58        0  \n",
       "2    46           39        0  \n",
       "3    60           59        0  \n",
       "4    43           59        0  \n",
       "5     6           68        0  \n",
       "6    64           64        0  \n",
       "7    53            6        0  \n",
       "8    18           48        0  \n",
       "9    64           68        0  "
      ]
     },
     "execution_count": 128,
     "metadata": {},
     "output_type": "execute_result"
    }
   ],
   "source": [
    "df.append(pd.Series(0, index=df.columns), ignore_index=True)\n",
    "df"
   ]
  },
  {
   "cell_type": "code",
   "execution_count": null,
   "id": "c869a046-2557-4e79-b942-02b19532f38a",
   "metadata": {},
   "outputs": [],
   "source": []
  }
 ],
 "metadata": {
  "kernelspec": {
   "display_name": "Python 3 (ipykernel)",
   "language": "python",
   "name": "python3"
  },
  "language_info": {
   "codemirror_mode": {
    "name": "ipython",
    "version": 3
   },
   "file_extension": ".py",
   "mimetype": "text/x-python",
   "name": "python",
   "nbconvert_exporter": "python",
   "pygments_lexer": "ipython3",
   "version": "3.9.6"
  }
 },
 "nbformat": 4,
 "nbformat_minor": 5
}
