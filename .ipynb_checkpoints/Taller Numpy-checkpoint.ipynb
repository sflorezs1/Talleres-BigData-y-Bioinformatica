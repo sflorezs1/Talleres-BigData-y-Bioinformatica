{
 "cells": [
  {
   "cell_type": "code",
   "execution_count": null,
   "id": "16b23246-fc4c-4524-9103-28370c660946",
   "metadata": {},
   "outputs": [],
   "source": []
  },
  {
   "cell_type": "markdown",
   "id": "dc6da721-cb97-4dd6-9e96-774328ab5866",
   "metadata": {},
   "source": [
    "# Taller 1: Numpy"
   ]
  },
  {
   "cell_type": "code",
   "execution_count": 71,
   "id": "d2250ced-a98b-4d73-98f3-95e378137ec6",
   "metadata": {},
   "outputs": [
    {
     "data": {
      "text/plain": [
       "{'Calculo':     Estudiante  Nota 1  Nota 2  Nota 3  Nota 4  Nota 5\n",
       " 0          1.0    0.10    1.85    4.58    3.16    4.33\n",
       " 1          2.0    1.88    2.59    0.96    4.75    0.86\n",
       " 2          3.0    1.18    0.50    0.51    1.69    2.36\n",
       " 3          4.0    2.63    2.21    1.88    4.89    3.49\n",
       " 4          5.0    1.62    0.25    4.53    2.00    4.09\n",
       " ..         ...     ...     ...     ...     ...     ...\n",
       " 95        96.0    1.87    1.77    0.81    4.35    0.65\n",
       " 96        97.0    0.14    1.52    1.96    1.85    4.75\n",
       " 97        98.0    2.19    3.01    3.63    0.47    4.81\n",
       " 98        99.0    1.06    0.21    4.76    1.00    4.39\n",
       " 99       100.0    2.84    4.72    2.65    4.67    2.58\n",
       " \n",
       " [100 rows x 6 columns],\n",
       " 'Analisis Textual':     Estudiante  Nota 1  Nota 2  Nota 3  Nota 4  Nota 5\n",
       " 0          1.0    0.69    2.47    4.93    0.39    0.59\n",
       " 1          2.0    4.33    1.57    1.77    2.70    4.96\n",
       " 2          3.0    1.70    0.92    1.78    4.80    1.80\n",
       " 3          4.0    2.70    3.56    0.37    3.95    2.37\n",
       " 4          5.0    3.46    4.85    1.47    2.09    4.07\n",
       " ..         ...     ...     ...     ...     ...     ...\n",
       " 95        96.0    1.84    3.38    1.03    4.16    4.07\n",
       " 96        97.0    1.71    1.75    4.81    4.21    1.14\n",
       " 97        98.0    0.53    4.76    1.92    3.12    3.73\n",
       " 98        99.0    3.70    4.89    4.07    0.42    3.07\n",
       " 99       100.0    0.55    1.88    0.21    1.66    4.72\n",
       " \n",
       " [100 rows x 6 columns],\n",
       " 'Programacion':     Estudiante  Nota 1  Nota 2  Nota 3  Nota 4  Nota 5\n",
       " 0          1.0    2.27    4.00    2.29    3.50    2.92\n",
       " 1          2.0    2.19    0.64    0.60    3.95    3.63\n",
       " 2          3.0    0.00    4.61    4.26    3.73    3.90\n",
       " 3          4.0    3.28    0.54    2.89    0.82    0.85\n",
       " 4          5.0    4.01    4.72    3.20    1.11    4.32\n",
       " ..         ...     ...     ...     ...     ...     ...\n",
       " 95        96.0    3.07    3.36    3.63    1.54    1.47\n",
       " 96        97.0    0.97    2.50    3.19    3.70    3.06\n",
       " 97        98.0    4.60    4.00    0.52    2.17    1.46\n",
       " 98        99.0    3.85    2.39    0.50    0.84    1.15\n",
       " 99       100.0    0.37    0.72    2.30    0.10    3.88\n",
       " \n",
       " [100 rows x 6 columns],\n",
       " 'Fisica':     Estudiante  Nota 1  Nota 2  Nota 3  Nota 4  Nota 5\n",
       " 0          1.0    0.87    4.66    2.28    2.61    1.06\n",
       " 1          2.0    2.32    0.75    0.31    1.64    2.79\n",
       " 2          3.0    1.35    2.05    2.90    2.64    1.78\n",
       " 3          4.0    1.76    0.43    3.27    4.42    2.84\n",
       " 4          5.0    4.72    0.45    0.81    2.80    1.72\n",
       " ..         ...     ...     ...     ...     ...     ...\n",
       " 95        96.0    1.61    2.53    1.24    1.91    4.75\n",
       " 96        97.0    4.16    4.55    4.94    1.05    0.57\n",
       " 97        98.0    0.46    3.10    3.86    3.48    4.51\n",
       " 98        99.0    4.20    3.63    1.86    3.63    2.33\n",
       " 99       100.0    3.57    4.91    2.97    4.92    4.75\n",
       " \n",
       " [100 rows x 6 columns]}"
      ]
     },
     "metadata": {},
     "output_type": "display_data"
    }
   ],
   "source": [
    "import pandas as pd\n",
    "import numpy as np\n",
    "\n",
    "st = 100\n",
    "notas = 5\n",
    "dfs = []\n",
    "\n",
    "for i in [\"Calculo\", \"Analisis Textual\", \"Programacion\", \"Fisica\"]:\n",
    "    ids = np.arange(1, st + 1)[:, np.newaxis]\n",
    "    grades = np.random.ranf((st, notas, )) * 5\n",
    "    df = pd.DataFrame(np.hstack((ids, grades)), columns=[\"Estudiante\"] + [f\"Nota {j}\" for j in range(1, notas + 1)]).round(2)\n",
    "    df.to_csv(f\"{i}.csv\", index=None)"
   ]
  },
  {
   "cell_type": "code",
   "execution_count": 88,
   "id": "26eff301-c743-4a2a-b26c-548caa316cb3",
   "metadata": {},
   "outputs": [
    {
     "data": {
      "text/plain": [
       "(10, 10)"
      ]
     },
     "metadata": {},
     "output_type": "display_data"
    },
    {
     "data": {
      "text/plain": [
       "'|    |   Mazanas |   Aguacates |   Naranjas |   Mangos |   Sandias |   Fresas |\\n|---:|----------:|------------:|-----------:|---------:|----------:|---------:|\\n|  3 |        70 |          77 |         91 |       28 |        29 |        8 |\\n|  4 |        27 |          92 |         43 |       86 |        87 |        5 |\\n|  5 |        54 |          77 |         63 |       91 |        11 |       39 |\\n|  6 |        81 |          66 |         51 |       36 |        83 |       56 |\\n|  7 |        53 |          90 |         19 |       72 |        15 |        6 |\\n|  8 |        21 |          10 |         12 |       84 |        45 |       40 |\\n|  9 |        21 |          63 |         56 |       45 |        76 |        0 |'"
      ]
     },
     "execution_count": 88,
     "metadata": {},
     "output_type": "execute_result"
    }
   ],
   "source": [
    "display(np.random.randint(0, 100, (10, 10)).shape)\n",
    "df = pd.DataFrame(np.random.randint(0, 100, (10, 10)), columns=[\"Bananos\", \"Peras\", \"Mazanas\", \"Aguacates\", \"Naranjas\", \"Mangos\", \"Sandias\", \"Fresas\", \"Uvas\", \"Melocotones\"])\n",
    "df.iloc[3:, 2:8].to_markdown()"
   ]
  },
  {
   "cell_type": "code",
   "execution_count": 76,
   "id": "209d061e-ca47-493e-974c-7859572f6645",
   "metadata": {},
   "outputs": [
    {
     "name": "stdout",
     "output_type": "stream",
     "text": [
      "Defaulting to user installation because normal site-packages is not writeable\n",
      "Collecting tabulate\n",
      "  Downloading tabulate-0.8.9-py3-none-any.whl (25 kB)\n",
      "Installing collected packages: tabulate\n",
      "Successfully installed tabulate-0.8.9\n"
     ]
    }
   ],
   "source": [
    "!pip install tabulate"
   ]
  },
  {
   "cell_type": "code",
   "execution_count": null,
   "id": "4d7cbda9-4733-4884-af40-244bd42953fd",
   "metadata": {},
   "outputs": [],
   "source": []
  }
 ],
 "metadata": {
  "kernelspec": {
   "display_name": "Python 3 (ipykernel)",
   "language": "python",
   "name": "python3"
  },
  "language_info": {
   "codemirror_mode": {
    "name": "ipython",
    "version": 3
   },
   "file_extension": ".py",
   "mimetype": "text/x-python",
   "name": "python",
   "nbconvert_exporter": "python",
   "pygments_lexer": "ipython3",
   "version": "3.9.6"
  }
 },
 "nbformat": 4,
 "nbformat_minor": 5
}
